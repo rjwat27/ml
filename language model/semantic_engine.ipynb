{
 "cells": [
  {
   "cell_type": "code",
   "execution_count": 1,
   "metadata": {},
   "outputs": [],
   "source": [
    "import numpy as np"
   ]
  },
  {
   "cell_type": "code",
   "execution_count": 2,
   "metadata": {},
   "outputs": [],
   "source": [
    "class Idea():\n",
    "\n",
    "    '''Fundamental building block of statements on which operators act.\n",
    "       Can have properties relating to other ideas, special responses to\n",
    "       operators, possibly its own operators, and other characteristics.\n",
    "       Properties are not meant to be static and may evolve over time'''\n",
    "\n",
    "    def __init__(self):\n",
    "        self.name = None\n",
    "        pass"
   ]
  },
  {
   "cell_type": "code",
   "execution_count": 3,
   "metadata": {},
   "outputs": [],
   "source": [
    "class Rule():\n",
    "\n",
    "    '''Statements regarding types of objects, their properties, and their relation to other\n",
    "       objects which must remain true. Other rules may be implicitly derived from a single rule \n",
    "       or a set of rules'''\n",
    "\n",
    "    def __init__(self):\n",
    "        self.name = None\n",
    "        self.statement = None \n",
    "        pass"
   ]
  },
  {
   "cell_type": "code",
   "execution_count": 4,
   "metadata": {},
   "outputs": [],
   "source": [
    "class Context():\n",
    "\n",
    "    def __init__(self):\n",
    "        '''Endows other structures with contextual rules and assumptions'''\n",
    "        self.name = None \n",
    "        self.rules = None \n",
    "\n",
    "        pass "
   ]
  },
  {
   "cell_type": "code",
   "execution_count": 5,
   "metadata": {},
   "outputs": [],
   "source": [
    "class Graph():\n",
    "\n",
    "    '''Top level data structure of some idea or expression.\n",
    "       May be recursive'''\n",
    "\n",
    "    def __init__(self):\n",
    "        self.name = None \n",
    "        self.elements = {}\n",
    "        self.context = None #context object\n",
    "        pass "
   ]
  },
  {
   "cell_type": "code",
   "execution_count": 11,
   "metadata": {},
   "outputs": [],
   "source": [
    "class Relation():\n",
    "    def __init__(self, key1, key2, _is=1, _subset=1, _contains=1, _describes=1):\n",
    "        self.weight = 1.0\n",
    "\n",
    "        self.key1 = key1 \n",
    "        self.key2 = key2 \n",
    "\n",
    "        self.keys = (key1, key2) \n",
    "\n",
    "        self._is = _is\n",
    "        self._subset = _subset\n",
    "        self._contains = _contains\n",
    "        self._describes = _describes\n"
   ]
  },
  {
   "cell_type": "code",
   "execution_count": 12,
   "metadata": {},
   "outputs": [],
   "source": [
    "class Node():\n",
    "    #may be as simple as a word, or an idea/sub-network of nodes\n",
    "\n",
    "    def __init__(self, key):\n",
    "        self.key = key \n"
   ]
  },
  {
   "cell_type": "code",
   "execution_count": 6,
   "metadata": {},
   "outputs": [],
   "source": [
    "#simple english sentences to logical statements \n",
    "phrases = np.load('phrases_small.npy')\n"
   ]
  },
  {
   "cell_type": "code",
   "execution_count": 7,
   "metadata": {},
   "outputs": [],
   "source": [
    "parsing_chars = [' ',',',';','.'] \n",
    "\n",
    "#string to list of substrings\n",
    "def break_phrase(phrase):\n",
    "    tmp = [x.strip() for x in phrase.split(' ') if x!='']\n",
    "    return tmp \n",
    "\n"
   ]
  },
  {
   "cell_type": "code",
   "execution_count": 23,
   "metadata": {},
   "outputs": [
    {
     "data": {
      "text/plain": [
       "{'word': 'revolution',\n",
       " 'phonetic': '/ˌɹɛvəˈl(j)uːʃən/',\n",
       " 'phonetics': [{'text': '/ˌɹɛvəˈl(j)uːʃən/',\n",
       "   'audio': 'https://api.dictionaryapi.dev/media/pronunciations/en/revolution-uk.mp3',\n",
       "   'sourceUrl': 'https://commons.wikimedia.org/w/index.php?curid=9023336',\n",
       "   'license': {'name': 'BY 3.0 US',\n",
       "    'url': 'https://creativecommons.org/licenses/by/3.0/us'}},\n",
       "  {'text': '/ˌɹɛvəˈl(j)uːʃən/',\n",
       "   'audio': 'https://api.dictionaryapi.dev/media/pronunciations/en/revolution-us.mp3',\n",
       "   'sourceUrl': 'https://commons.wikimedia.org/w/index.php?curid=1780331',\n",
       "   'license': {'name': 'BY-SA 3.0',\n",
       "    'url': 'https://creativecommons.org/licenses/by-sa/3.0'}}],\n",
       " 'meanings': [{'partOfSpeech': 'noun',\n",
       "   'definitions': [{'definition': 'A political upheaval in a government or nation state characterized by great change.',\n",
       "     'synonyms': [],\n",
       "     'antonyms': []},\n",
       "    {'definition': 'The removal and replacement of a government, especially by sudden violent action.',\n",
       "     'synonyms': [],\n",
       "     'antonyms': []},\n",
       "    {'definition': 'Rotation: the turning of an object around an axis.',\n",
       "     'synonyms': [],\n",
       "     'antonyms': []},\n",
       "    {'definition': 'A rotation: one complete turn of an object during rotation.',\n",
       "     'synonyms': [],\n",
       "     'antonyms': []},\n",
       "    {'definition': 'In the case of celestial bodies - the traversal of one body through an orbit around another body.',\n",
       "     'synonyms': [],\n",
       "     'antonyms': []},\n",
       "    {'definition': 'A sudden, vast change in a situation, a discipline, or the way of thinking and behaving.',\n",
       "     'synonyms': [],\n",
       "     'antonyms': []},\n",
       "    {'definition': 'A round of periodic changes, such as between the seasons of the year.',\n",
       "     'synonyms': [],\n",
       "     'antonyms': []},\n",
       "    {'definition': 'Consideration of an idea; the act of revolving something in the mind.',\n",
       "     'synonyms': [],\n",
       "     'antonyms': []}],\n",
       "   'synonyms': [],\n",
       "   'antonyms': ['evolution']}],\n",
       " 'license': {'name': 'CC BY-SA 3.0',\n",
       "  'url': 'https://creativecommons.org/licenses/by-sa/3.0'},\n",
       " 'sourceUrls': ['https://en.wiktionary.org/wiki/revolution']}"
      ]
     },
     "execution_count": 23,
     "metadata": {},
     "output_type": "execute_result"
    }
   ],
   "source": [
    "import remote as rm \n",
    "\n",
    "rm.get_word_details('revolution')"
   ]
  },
  {
   "cell_type": "code",
   "execution_count": 22,
   "metadata": {},
   "outputs": [
    {
     "data": {
      "text/plain": [
       "['verb', 'noun']"
      ]
     },
     "execution_count": 22,
     "metadata": {},
     "output_type": "execute_result"
    }
   ],
   "source": [
    "rm.get_word_logical('walks')"
   ]
  },
  {
   "cell_type": "code",
   "execution_count": 13,
   "metadata": {},
   "outputs": [],
   "source": [
    "connections = {}\n",
    "nodes = {} "
   ]
  },
  {
   "cell_type": "code",
   "execution_count": 14,
   "metadata": {},
   "outputs": [],
   "source": [
    "def is_in_network(key):\n",
    "    return key in nodes.keys() \n",
    "\n",
    "def connection_exist(key1, key2):\n",
    "    return (key1, key2) in connections.keys() "
   ]
  }
 ],
 "metadata": {
  "kernelspec": {
   "display_name": "Python 3",
   "language": "python",
   "name": "python3"
  },
  "language_info": {
   "codemirror_mode": {
    "name": "ipython",
    "version": 3
   },
   "file_extension": ".py",
   "mimetype": "text/x-python",
   "name": "python",
   "nbconvert_exporter": "python",
   "pygments_lexer": "ipython3",
   "version": "3.11.4"
  },
  "orig_nbformat": 4
 },
 "nbformat": 4,
 "nbformat_minor": 2
}
