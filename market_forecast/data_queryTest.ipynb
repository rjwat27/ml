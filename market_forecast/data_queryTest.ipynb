{
 "cells": [
  {
   "cell_type": "code",
   "execution_count": 1,
   "metadata": {},
   "outputs": [],
   "source": [
    "import numpy as np \n",
    "import DataModule as dm "
   ]
  },
  {
   "cell_type": "code",
   "execution_count": 4,
   "metadata": {},
   "outputs": [
    {
     "name": "stdout",
     "output_type": "stream",
     "text": [
      "symbol BTCUSD\n",
      "priceChange -1648.10000000\n",
      "priceChangePercent -6.168\n",
      "weightedAvgPrice 25954.30304760\n",
      "prevClosePrice 26721.31000000\n",
      "lastPrice 25073.21000000\n",
      "lastQty 0.02102000\n",
      "bidPrice 0.00000000\n",
      "bidQty 0.00000000\n",
      "askPrice 0.00000000\n",
      "askQty 0.00000000\n",
      "openPrice 26721.31000000\n",
      "highPrice 27400.00000000\n",
      "lowPrice 24900.00000000\n",
      "volume 163.68291000\n",
      "quoteVolume 4248275.84985350\n",
      "openTime 1689217555961\n",
      "closeTime 1689303955961\n",
      "firstId 88531163\n",
      "lastId 88559777\n",
      "count 28615\n"
     ]
    }
   ],
   "source": [
    "database = dm.DataBase()\n",
    "\n",
    "test = database.full_data() \n",
    "\n",
    "for t in test.keys():\n",
    "    print(t, test[t])"
   ]
  },
  {
   "cell_type": "code",
   "execution_count": 5,
   "metadata": {},
   "outputs": [
    {
     "name": "stdout",
     "output_type": "stream",
     "text": [
      "25073.21\n"
     ]
    }
   ],
   "source": [
    "watcher = dm.Watcher()\n",
    "print(watcher.price())"
   ]
  },
  {
   "cell_type": "code",
   "execution_count": 3,
   "metadata": {},
   "outputs": [
    {
     "data": {
      "image/png": "[encoded data removed]",
      "text/plain": [
       "<Figure size 640x480 with 2 Axes>"
      ]
     },
     "metadata": {},
     "output_type": "display_data"
    }
   ],
   "source": [
    "#test moving market distribution model\n",
    "import matplotlib.pyplot as plt\n",
    "import matplotlib.animation as animation\n",
    "import time\n",
    "\n",
    "fig = plt.figure()\n",
    "ax1 = fig.add_subplot(2,1,1)\n",
    "ax2 = fig.add_subplot(2,1,2) \n",
    "\n",
    "x = np.linspace(0, 10, 3000) \n",
    "\n",
    "u1 = 2\n",
    "u2 = 7\n",
    "\n",
    "S = 2\n",
    "B = 2.4 \n",
    "\n",
    "v = .12\n",
    "\n",
    "sig = .95\n",
    "\n",
    "buyers = np.exp(-(x-u1)**2/2) * B\n",
    "sellers = np.exp(-(x-u2)**2/2) * S\n",
    "\n",
    "\n",
    "plt.plot(x, buyers)\n",
    "plt.plot(x, sellers) \n",
    "plt.show()"
   ]
  },
  {
   "cell_type": "code",
   "execution_count": 4,
   "metadata": {},
   "outputs": [],
   "source": [
    "def speculation():\n",
    "    return np.sum(buyers*x) - np.sum(sellers*x) \n",
    "\n",
    "beta = .1\n",
    "alpha = .1\n",
    "def update_buyers_sellers(spec):\n",
    "    new_b = buyers[:]\n",
    "    new_s = sellers[:]\n",
    "\n",
    "    new_b = np.maximum(np.zeros(len(x)), buyers - sellers) \n",
    "    new_s = np.maximum(np.zeros(len(x)), sellers - buyers)\n",
    "\n",
    "    new_bb = np.zeros(len(x)) \n",
    "    new_ss = np.zeros(len(x))\n",
    "    #return new_bb, new_ss\n",
    "    for i in range(len(new_b)-1):\n",
    "        new_bb[i+1] += sig*new_b[i]\n",
    "        new_ss[i+1] += (1-sig)*new_s[i]\n",
    "\n",
    "    for i in range(1, len(new_bb)):\n",
    "        new_bb[i-1] += (1-sig)*new_b[i] \n",
    "        new_ss[i-1] += sig*new_s[i]\n",
    "    #speculation shift \n",
    "    # buyer_shift = int(beta*spec)\n",
    "    # seller_shift = int(alpha*spec) \n",
    "\n",
    "    # new_bb = new_b[:]\n",
    "    # new_ss = new_s[:] \n",
    "\n",
    "    # new_bb[buyer_shift:] = new_bb[0:-buyer_shift] \n",
    "    # if buyer_shift > 0:\n",
    "    #     new_bb[-1] += np.sum(new_b[-buyer_shift:])\n",
    "    # elif buyer_shift < 0:\n",
    "    #     new_bb[0] += np.sum(new_b[0:buyer_shift]) \n",
    "    # else:\n",
    "    #     new_bb = new_b \n",
    "\n",
    "    # new_ss[seller_shift:] = new_ss[0:-seller_shift] \n",
    "    # if seller_shift > 0:\n",
    "    #     new_ss[-1] += np.sum(new_s[-seller_shift:])\n",
    "    # elif seller_shift < 0:\n",
    "    #     new_ss[0] += np.sum(new_s[0:seller_shift]) \n",
    "    # else:\n",
    "    #     new_ss = new_s \n",
    "\n",
    "    # return new_bb, new_ss \n",
    "\n",
    "    return new_bb, new_ss"
   ]
  },
  {
   "cell_type": "code",
   "execution_count": 13,
   "metadata": {},
   "outputs": [
    {
     "name": "stderr",
     "output_type": "stream",
     "text": [
      "MovieWriter ffmpeg unavailable; using Pillow instead.\n"
     ]
    },
    {
     "data": {
      "text/plain": [
       "<Figure size 640x480 with 0 Axes>"
      ]
     },
     "metadata": {},
     "output_type": "display_data"
    }
   ],
   "source": [
    "\n",
    "population = [np.sum(buyers)+np.sum(sellers)]\n",
    "\n",
    "plt.ion()\n",
    "plt.clf()\n",
    "graph1 = ax1.plot(x, buyers, color='blue')[0]\n",
    "graph2 = ax1.plot(x, sellers, color='green')[0] \n",
    "#graph3 = ax2.plot(population)[0] \n",
    "\n",
    "buy_ydata = []\n",
    "sell_ydata = []\n",
    "for i in range(300):\n",
    "    spec = speculation() \n",
    "    buyers, sellers = update_buyers_sellers(spec)\n",
    "    buy_ydata.append(buyers)\n",
    "    sell_ydata.append(sellers)     \n",
    "\n",
    "#plt.pause(.01)\n",
    "def animate(i):\n",
    "    # spec = speculation() \n",
    "    # buyers, sellers = update_buyers_sellers(spec)\n",
    "    # population += [np.sum(buyers)+np.sum(sellers)]\n",
    "    # ax1.clear()\n",
    "    # ax2.clear()\n",
    "    # ax1.plot(x, buyers, color='blue')\n",
    "    # ax1.plot(x, sellers, color='red') \n",
    "    # ax2.plot(population) \n",
    "    graph1.set_ydata(buy_ydata[i])\n",
    "    #graph1.set_xdata(x)\n",
    "    graph2.set_ydata(sell_ydata[i])\n",
    "    #graph3.set_ydata(population)\n",
    "   # plt.draw()\n",
    "    return graph1#, graph2, graph3\n",
    "   # plt.pause(.01)\n",
    "ani = animation.FuncAnimation(fig, animate, interval=10, frames = 300)\n",
    "ani.save('eco_evo.gif', fps=30)"
   ]
  },
  {
   "cell_type": "code",
   "execution_count": 48,
   "metadata": {},
   "outputs": [],
   "source": [
    "left = np.array([1,2,5,10])\n",
    "right = np.array([]) \n",
    "\n",
    "sums = []\n",
    "sequences = []\n",
    "\n",
    "def choose(l, r, side, sum, seq):\n",
    "    #print(l, r, side) \n",
    "    if len(r)>=4:\n",
    "        sums.append(sum)\n",
    "        sequences.append(seq)  \n",
    "        return \n",
    "    if side=='left':\n",
    "        for i in range(len(l)):\n",
    "            if len(l)>1:\n",
    "                for j in range(i+1, len(l)):\n",
    "                    #print('got here') \n",
    "                    r1 = np.append(r, [l[i], l[j]]) \n",
    "                    sum1 = sum + max(l[i], l[j]) \n",
    "                    seq1 = seq + [(l[i], l[j])]\n",
    "                    l1 = np.delete(l, [i, j])\n",
    "                    choose(l1, r1, 'right', sum1, seq1)\n",
    "            else:\n",
    "                r1 = np.append(r, [l[0]])\n",
    "                sum1 = sum + l[0] \n",
    "                seq1 = seq + [l[0]] \n",
    "                l1 = np.delete(l, [0]) \n",
    "                choose(l1, r1, 'right', sum1, seq1) \n",
    "    if side=='right':\n",
    "        if len(r)==0:\n",
    "            return \n",
    "        for i in range(len(r)):\n",
    "           # print('got here: ', r) \n",
    "            l1 = np.append(l, [r[i]]) \n",
    "            sum1 = sum + r[i] \n",
    "            seq1 = seq + [r[i]]\n",
    "            r1 = np.delete(r, [i]) \n",
    "            choose(l1, r1, 'left', sum1, seq1) \n",
    "                     "
   ]
  },
  {
   "cell_type": "code",
   "execution_count": 49,
   "metadata": {},
   "outputs": [],
   "source": [
    "choose(left, right, 'left', 0, []) "
   ]
  },
  {
   "cell_type": "code",
   "execution_count": 52,
   "metadata": {},
   "outputs": [
    {
     "name": "stdout",
     "output_type": "stream",
     "text": [
      "17.0 0 [(1, 2), 1.0, (5.0, 10.0), 2.0, (1.0, 2.0)]\n"
     ]
    }
   ],
   "source": [
    "print(min(sums), np.argmin(sums), sequences[np.argmin(sums)])\n"
   ]
  },
  {
   "cell_type": "code",
   "execution_count": 36,
   "metadata": {},
   "outputs": [],
   "source": [
    "import requests \n",
    "\n",
    "url = 'http://finance.yahoo.com/chart/AAPL?showOptin=1#eyJpbnRlcnZhbCI6MSwicGVyaW9kaWNpdHkiOjEsInRpbWVVbml0IjoibWludXRlIiwiY2FuZGxlV2lkdGgiOjEuNzI1NjQxMDI1NjQxMDI1NywiZmxpcHBlZCI6ZmFsc2UsInZvbHVtZVVuZGVybGF5Ijp0cnVlLCJhZGoiOnRydWUsImNyb3NzaGFpciI6dHJ1ZSwiY2hhcnRUeXBlIjoibGluZSIsImV4dGVuZGVkIjpmYWxzZSwibWFya2V0U2Vzc2lvbnMiOnt9LCJhZ2dyZWdhdGlvblR5cGUiOiJvaGxjIiwiY2hhcnRTY2FsZSI6ImxpbmVhciIsInBhbmVscyI6eyJjaGFydCI6eyJwZXJjZW50IjoxLCJkaXNwbGF5IjoiQUFQTCIsImNoYXJ0TmFtZSI6ImNoYXJ0IiwiaW5kZXgiOjAsInlBeGlzIjp7Im5hbWUiOiJjaGFydCIsInBvc2l0aW9uIjpudWxsfSwieWF4aXNMSFMiOltdLCJ5YXhpc1JIUyI6WyJjaGFydCIsIuKAjHZvbCB1bmRy4oCMIl19fSwic2V0U3BhbiI6eyJtdWx0aXBsaWVyIjoxLCJiYXNlIjoidG9kYXkiLCJwZXJpb2RpY2l0eSI6eyJpbnRlcnZhbCI6MSwicGVyaW9kIjoxLCJ0aW1lVW5pdCI6Im1pbnV0ZSJ9fSwibGluZVdpZHRoIjoyLCJzdHJpcGVkQmFja2dyb3VuZCI6dHJ1ZSwiZXZlbnRzIjp0cnVlLCJjb2xvciI6IiMwMDgxZjIiLCJzdHJpcGVkQmFja2dyb3VkIjp0cnVlLCJldmVudE1hcCI6eyJjb3Jwb3JhdGUiOltdLCJzaWdEZXYiOnt9fSwiY3VzdG9tUmFuZ2UiOm51bGwsInN5bWJvbHMiOlt7InN5bWJvbCI6IkFBUEwiLCJzeW1ib2xPYmplY3QiOnsic3ltYm9sIjoiQUFQTCIsInF1b3RlVHlwZSI6IkVRVUlUWSIsImV4Y2hhbmdlVGltZVpvbmUiOiJBbWVyaWNhL05ld19Zb3JrIn0sInBlcmlvZGljaXR5IjoxLCJpbnRlcnZhbCI6MSwidGltZVVuaXQiOiJtaW51dGUiLCJzZXRTcGFuIjp7Im11bHRpcGxpZXIiOjEsImJhc2UiOiJ0b2RheSIsInBlcmlvZGljaXR5Ijp7ImludGVydmFsIjoxLCJwZXJpb2QiOjEsInRpbWVVbml0IjoibWludXRlIn19fV0sInN0dWRpZXMiOnsi4oCMdm9sIHVuZHLigIwiOnsidHlwZSI6InZvbCB1bmRyIiwiaW5wdXRzIjp7ImlkIjoi4oCMdm9sIHVuZHLigIwiLCJkaXNwbGF5Ijoi4oCMdm9sIHVuZHLigIwifSwib3V0cHV0cyI6eyJVcCBWb2x1bWUiOiIjMDBiMDYxIiwiRG93biBWb2x1bWUiOiIjZmYzMzNhIn0sInBhbmVsIjoiY2hhcnQiLCJwYXJhbWV0ZXJzIjp7IndpZHRoRmFjdG9yIjowLjQ1LCJjaGFydE5hbWUiOiJjaGFydCIsInBhbmVsTmFtZSI6ImNoYXJ0In19fX0-'\n",
    "url2 = 'https://finance.yahoo.com/chart/AAPL?showOptin=1#eyJpbnRlcnZhbCI6MSwicGVyaW9kaWNpdHkiOjEsInRpbWVVbml0IjoibWludXRlIiwiY2FuZGxlV2lkdGgiOjEuNzI1NjQxMDI1NjQxMDI1NywiZmxpcHBlZCI6ZmFsc2UsInZvbHVtZVVuZGVybGF5Ijp0cnVlLCJhZGoiOnRydWUsImNyb3NzaGFpciI6dHJ1ZSwiY2hhcnRUeXBlIjoibGluZSIsImV4dGVuZGVkIjpmYWxzZSwibWFya2V0U2Vzc2lvbnMiOnt9LCJhZ2dyZWdhdGlvblR5cGUiOiJvaGxjIiwiY2hhcnRTY2FsZSI6ImxpbmVhciIsInBhbmVscyI6eyJjaGFydCI6eyJwZXJjZW50IjoxLCJkaXNwbGF5IjoiQUFQTCIsImNoYXJ0TmFtZSI6ImNoYXJ0IiwiaW5kZXgiOjAsInlBeGlzIjp7Im5hbWUiOiJjaGFydCIsInBvc2l0aW9uIjpudWxsfSwieWF4aXNMSFMiOltdLCJ5YXhpc1JIUyI6WyJjaGFydCIsIuKAjHZvbCB1bmRy4oCMIl19fSwic2V0U3BhbiI6eyJtdWx0aXBsaWVyIjoxLCJiYXNlIjoidG9kYXkiLCJwZXJpb2RpY2l0eSI6eyJpbnRlcnZhbCI6MSwicGVyaW9kIjoxLCJ0aW1lVW5pdCI6Im1pbnV0ZSJ9fSwibGluZVdpZHRoIjoyLCJzdHJpcGVkQmFja2dyb3VuZCI6dHJ1ZSwiZXZlbnRzIjp0cnVlLCJjb2xvciI6IiMwMDgxZjIiLCJzdHJpcGVkQmFja2dyb3VkIjp0cnVlLCJldmVudE1hcCI6eyJjb3Jwb3JhdGUiOltdLCJzaWdEZXYiOnt9fSwiY3VzdG9tUmFuZ2UiOm51bGwsInN5bWJvbHMiOlt7InN5bWJvbCI6IkFBUEwiLCJzeW1ib2xPYmplY3QiOnsic3ltYm9sIjoiQUFQTCIsInF1b3RlVHlwZSI6IkVRVUlUWSIsImV4Y2hhbmdlVGltZVpvbmUiOiJBbWVyaWNhL05ld19Zb3JrIn0sInBlcmlvZGljaXR5IjoxLCJpbnRlcnZhbCI6MSwidGltZVVuaXQiOiJtaW51dGUiLCJzZXRTcGFuIjp7Im11bHRpcGxpZXIiOjEsImJhc2UiOiJ0b2RheSIsInBlcmlvZGljaXR5Ijp7ImludGVydmFsIjoxLCJwZXJpb2QiOjEsInRpbWVVbml0IjoibWludXRlIn19fV0sInN0dWRpZXMiOnsi4oCMdm9sIHVuZHLigIwiOnsidHlwZSI6InZvbCB1bmRyIiwiaW5wdXRzIjp7ImlkIjoi4oCMdm9sIHVuZHLigIwiLCJkaXNwbGF5Ijoi4oCMdm9sIHVuZHLigIwifSwib3V0cHV0cyI6eyJVcCBWb2x1bWUiOiIjMDBiMDYxIiwiRG93biBWb2x1bWUiOiIjZmYzMzNhIn0sInBhbmVsIjoiY2hhcnQiLCJwYXJhbWV0ZXJzIjp7IndpZHRoRmFjdG9yIjowLjQ1LCJjaGFydE5hbWUiOiJjaGFydCIsInBhbmVsTmFtZSI6ImNoYXJ0In19fX0'\n",
    "#url = 'https://finance.yahoo.com/quote/AAPL/'\n",
    "req = requests.get(url2)"
   ]
  },
  {
   "cell_type": "code",
   "execution_count": null,
   "metadata": {},
   "outputs": [],
   "source": [
    "print(req.text)"
   ]
  },
  {
   "cell_type": "code",
   "execution_count": 46,
   "metadata": {},
   "outputs": [
    {
     "name": "stdout",
     "output_type": "stream",
     "text": [
      "5454\n"
     ]
    }
   ],
   "source": [
    "print(req.text.find('script src='))"
   ]
  },
  {
   "cell_type": "code",
   "execution_count": 59,
   "metadata": {},
   "outputs": [],
   "source": [
    "text = req.text \n",
    "starts = [i+12 for i in range(len(text)) if text.startswith('script src=', i)]\n",
    "ends = [text.find('.js\"', i)+3 for i in starts]"
   ]
  },
  {
   "cell_type": "code",
   "execution_count": 65,
   "metadata": {},
   "outputs": [],
   "source": [
    "scripts_url = []\n",
    "scripts = []\n",
    "for i in range(len(starts)):\n",
    "    scripts_url.append(text[starts[i]:ends[i]])\n",
    "    scripts.append(requests.get(scripts_url[-1]).text)"
   ]
  },
  {
   "cell_type": "code",
   "execution_count": 92,
   "metadata": {},
   "outputs": [],
   "source": [
    "keywords = ['stx-field-value']\n",
    "#keywords = ['barney the rainbow dinosaurus']\n",
    "import numpy as np\n",
    "\n",
    "good = [(scripts_url[i], s) for i, s in enumerate(scripts) if np.array([k in s for k in keywords]).any()]"
   ]
  },
  {
   "cell_type": "code",
   "execution_count": 93,
   "metadata": {},
   "outputs": [
    {
     "name": "stdout",
     "output_type": "stream",
     "text": [
      "29 30\n"
     ]
    }
   ],
   "source": [
    "print(len(good), len(scripts))"
   ]
  },
  {
   "cell_type": "code",
   "execution_count": 88,
   "metadata": {},
   "outputs": [
    {
     "name": "stdout",
     "output_type": "stream",
     "text": [
      "https://s.yimg.com/uc/finance/dd-site/js/common.89b951a0ccd8b41210df.modern.js\n"
     ]
    }
   ],
   "source": [
    "print(good[0][0])"
   ]
  }
 ],
 "metadata": {
  "kernelspec": {
   "display_name": "Python 3",
   "language": "python",
   "name": "python3"
  },
  "language_info": {
   "codemirror_mode": {
    "name": "ipython",
    "version": 3
   },
   "file_extension": ".py",
   "mimetype": "text/x-python",
   "name": "python",
   "nbconvert_exporter": "python",
   "pygments_lexer": "ipython3",
   "version": "3.11.4"
  },
  "orig_nbformat": 4
 },
 "nbformat": 4,
 "nbformat_minor": 2
}
