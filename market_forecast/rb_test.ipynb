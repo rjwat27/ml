{
 "cells": [
  {
   "cell_type": "code",
   "execution_count": 9,
   "metadata": {},
   "outputs": [],
   "source": [
    "import robin_stocks.robinhood as rs "
   ]
  },
  {
   "cell_type": "code",
   "execution_count": 13,
   "metadata": {},
   "outputs": [
    {
     "name": "stdout",
     "output_type": "stream",
     "text": [
      "{'access_token': 'eyJhbGciOiJSUzI1NiIsInR5cCI6IkpXVCJ9.eyJkZXZpY2VfaGFzaCI6IjYxMTc1NGNkZmYxZmMxNGVkMGQ5MTVjZjAyNWM0MTFmIiwiZXhwIjoxNjk0NTQ1OTI0LCJsZXZlbDJfYWNjZXNzIjpmYWxzZSwibWV0YSI6eyJvaWQiOiJjODJTSDBXWk9zYWJPWEdQMnN4cWNqMzRGeGt2Zm5XUlpCS2xCakZTIiwib24iOiJSb2Jpbmhvb2QifSwib3B0aW9ucyI6ZmFsc2UsInNjb3BlIjoiaW50ZXJuYWwiLCJzZXJ2aWNlX3JlY29yZHMiOlt7ImhhbHRlZCI6ZmFsc2UsInNlcnZpY2UiOiJudW1tdXNfdXMiLCJzaGFyZF9pZCI6MSwic3RhdGUiOiJhdmFpbGFibGUifSx7ImhhbHRlZCI6ZmFsc2UsInNlcnZpY2UiOiJicm9rZWJhY2tfdXMiLCJzaGFyZF9pZCI6Nywic3RhdGUiOiJhdmFpbGFibGUifV0sInNybSI6eyJiIjp7ImhsIjpmYWxzZSwiciI6InVzIiwic2lkIjo3fSwibiI6eyJobCI6ZmFsc2UsInIiOiJ1cyIsInNpZCI6MX19LCJ0b2tlbiI6IlhIeFVWS0xiNlR4c1l6eHhJa2tJZ3g1WnRTVEd3WiIsInVzZXJfaWQiOiIyMjU3NDRlMi1mZjZiLTQ4MzQtOTZhNy0yNTA4NTc2YjEzOWEiLCJ1c2VyX29yaWdpbiI6IlVTIn0.aEhs8JlPtZgMl5fRyCVXWLejnmr8AzfA4iMARaNhGEYJeyEYWo2Z5k3AxwQkndJ4--DQtRFRSzuMZP6tE4Cv1vHTa91uuc4Hklg6b79WD4rX3g8WyDE04710YebrXjTrX9L9Gasb6aTEiRqeU3B_9wTNnSM497aKQmV6BXibW5eS98unCQrElg6eDfPAP5sRycA1ZMIe4OhCSM6EQH04vel4k9c1T5v9vLGpw5holYUUTcnRXfgpSJhD0IqUzfjYjJGWMtI8A7CrwNWU8hYhZTxFNNRNOxVBmO46XYHkKDiEkwUwKEFKZCw-QGIbwbT4_A3mDuSKaxiHqa8eOS39cQ', 'expires_in': 576611, 'token_type': 'Bearer', 'scope': 'internal', 'refresh_token': 'wXDMcHsimaD38CBjetNpgv6UY9T5Og', 'mfa_code': None, 'backup_code': None, 'detail': 'logged in with brand new authentication code.'}\n"
     ]
    }
   ],
   "source": [
    "username = 'ryguywatson27@gmail.com'\n",
    "pw = 'pineapple4' #why not working?\n",
    "\n",
    "result = rs.login(username=username,\n",
    "         password=pw,\n",
    "         expiresIn=86400,\n",
    "         by_sms=True)\n",
    "\n",
    "#result = rs.gemini.get_price('BTCUSD', True) \n",
    "#result = rs.tda.\n",
    "\n",
    "print(result)"
   ]
  },
  {
   "cell_type": "code",
   "execution_count": 84,
   "metadata": {},
   "outputs": [
    {
     "name": "stdout",
     "output_type": "stream",
     "text": [
      "[{'ask_price': '191.000000', 'ask_size': 100, 'venue_ask_time': '2023-09-06T00:00:00.416289804Z', 'bid_price': '189.670000', 'bid_size': 1, 'venue_bid_time': '2023-09-06T00:00:00.416289804Z', 'last_trade_price': '189.700000', 'venue_last_trade_time': '2023-09-05T19:59:59.986231472Z', 'last_extended_hours_trade_price': '189.700000', 'last_non_reg_trade_price': '189.700000', 'venue_last_non_reg_trade_time': '2023-09-05T23:59:53.398489227Z', 'previous_close': '189.460000', 'adjusted_previous_close': '189.460000', 'previous_close_date': '2023-09-01', 'symbol': 'AAPL', 'trading_halted': False, 'has_traded': True, 'last_trade_price_source': 'nls', 'last_non_reg_trade_price_source': 'consolidated', 'updated_at': '2023-09-06T00:00:00Z', 'instrument': 'https://api.robinhood.com/instruments/450dfc6d-5510-4d40-abfb-f633b7d9be3e/', 'instrument_id': '450dfc6d-5510-4d40-abfb-f633b7d9be3e', 'state': 'active'}]\n",
      "191.000000\n"
     ]
    }
   ],
   "source": [
    "result = rs.stocks.get_quotes('AAPL') \n",
    "print(result)\n",
    "print(result[0]['ask_price'])\n",
    "\n",
    "data = [result] \n",
    "import numpy as np\n",
    "import pickle\n",
    "np.save('isavethis', data, allow_pickle=True)"
   ]
  },
  {
   "cell_type": "code",
   "execution_count": 85,
   "metadata": {},
   "outputs": [
    {
     "name": "stdout",
     "output_type": "stream",
     "text": [
      "[[{'ask_price': '191.000000', 'ask_size': 100, 'venue_ask_time': '2023-09-06T00:00:00.416289804Z', 'bid_price': '189.670000', 'bid_size': 1, 'venue_bid_time': '2023-09-06T00:00:00.416289804Z', 'last_trade_price': '189.700000', 'venue_last_trade_time': '2023-09-05T19:59:59.986231472Z', 'last_extended_hours_trade_price': '189.700000', 'last_non_reg_trade_price': '189.700000', 'venue_last_non_reg_trade_time': '2023-09-05T23:59:53.398489227Z', 'previous_close': '189.460000', 'adjusted_previous_close': '189.460000', 'previous_close_date': '2023-09-01', 'symbol': 'AAPL', 'trading_halted': False, 'has_traded': True, 'last_trade_price_source': 'nls', 'last_non_reg_trade_price_source': 'consolidated', 'updated_at': '2023-09-06T00:00:00Z', 'instrument': 'https://api.robinhood.com/instruments/450dfc6d-5510-4d40-abfb-f633b7d9be3e/', 'instrument_id': '450dfc6d-5510-4d40-abfb-f633b7d9be3e', 'state': 'active'}]]\n"
     ]
    }
   ],
   "source": [
    "test = np.load('isavethis.npy', allow_pickle=True)\n",
    "print(test)"
   ]
  },
  {
   "cell_type": "code",
   "execution_count": 77,
   "metadata": {},
   "outputs": [
    {
     "name": "stdout",
     "output_type": "stream",
     "text": [
      "13 30 00\n"
     ]
    },
    {
     "ename": "ValueError",
     "evalue": "month must be in 1..12",
     "output_type": "error",
     "traceback": [
      "\u001b[1;31m---------------------------------------------------------------------------\u001b[0m",
      "\u001b[1;31mValueError\u001b[0m                                Traceback (most recent call last)",
      "Cell \u001b[1;32mIn[77], line 5\u001b[0m\n\u001b[0;32m      3\u001b[0m result \u001b[39m=\u001b[39m rs\u001b[39m.\u001b[39mmarkets\u001b[39m.\u001b[39mget_market_next_open_hours(mar)[\u001b[39m'\u001b[39m\u001b[39mopens_at\u001b[39m\u001b[39m'\u001b[39m][\u001b[39m11\u001b[39m:\u001b[39m19\u001b[39m]\n\u001b[0;32m      4\u001b[0m \u001b[39mprint\u001b[39m(result[\u001b[39m0\u001b[39m:\u001b[39m2\u001b[39m],result[\u001b[39m3\u001b[39m:\u001b[39m5\u001b[39m], result[\u001b[39m6\u001b[39m:\u001b[39m8\u001b[39m])\n\u001b[1;32m----> 5\u001b[0m result \u001b[39m=\u001b[39m datetime(\u001b[39mint\u001b[39;49m(\u001b[39m'\u001b[39;49m\u001b[39m20\u001b[39;49m\u001b[39m'\u001b[39;49m\u001b[39m+\u001b[39;49mresult[\u001b[39m0\u001b[39;49m:\u001b[39m2\u001b[39;49m]), \u001b[39mint\u001b[39;49m(result[\u001b[39m3\u001b[39;49m:\u001b[39m5\u001b[39;49m]), \u001b[39mint\u001b[39;49m(result[\u001b[39m6\u001b[39;49m:\u001b[39m8\u001b[39;49m]), \u001b[39m0\u001b[39;49m)\u001b[39m.\u001b[39mtimestamp()\n\u001b[0;32m      6\u001b[0m \u001b[39mprint\u001b[39m(result)\n",
      "\u001b[1;31mValueError\u001b[0m: month must be in 1..12"
     ]
    }
   ],
   "source": [
    "mar = (rs.markets.get_markets()[0]['mic'])\n",
    "from datetime import datetime\n",
    "result = rs.markets.get_market_next_open_hours(mar)['opens_at'][11:19]\n",
    "print(result[0:2],result[3:5], result[6:8])\n",
    "result = datetime(int('20'+result[0:2]), int(result[3:5]), int(result[6:8]), 0).timestamp()\n",
    "print(result)"
   ]
  },
  {
   "cell_type": "code",
   "execution_count": 67,
   "metadata": {},
   "outputs": [
    {
     "name": "stdout",
     "output_type": "stream",
     "text": [
      "21:49:59\n",
      "a;sldkf\n"
     ]
    }
   ],
   "source": [
    "\n",
    "from datetime import datetime\n",
    "now = datetime.now()\n",
    "formatted = now.strftime(\"%H:%M:%S\")\n",
    "print(formatted)\n",
    "from time import sleep \n",
    "\n",
    "sleep(2)\n",
    "print('a;sldkf') "
   ]
  }
 ],
 "metadata": {
  "kernelspec": {
   "display_name": "Python 3",
   "language": "python",
   "name": "python3"
  },
  "language_info": {
   "codemirror_mode": {
    "name": "ipython",
    "version": 3
   },
   "file_extension": ".py",
   "mimetype": "text/x-python",
   "name": "python",
   "nbconvert_exporter": "python",
   "pygments_lexer": "ipython3",
   "version": "3.11.4"
  },
  "orig_nbformat": 4
 },
 "nbformat": 4,
 "nbformat_minor": 2
}
